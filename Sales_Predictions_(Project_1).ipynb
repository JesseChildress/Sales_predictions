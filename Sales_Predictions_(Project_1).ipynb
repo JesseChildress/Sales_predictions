{
  "nbformat": 4,
  "nbformat_minor": 0,
  "metadata": {
    "colab": {
      "name": "Sales Predictions (Project 1).ipynb",
      "provenance": [],
      "mount_file_id": "1DQ2V_VSVXKTVJcYWgAhS2NjHmWL9kU02",
      "authorship_tag": "ABX9TyOxaDouaWwQqIC00tgdBQ6R",
      "include_colab_link": true
    },
    "kernelspec": {
      "name": "python3",
      "display_name": "Python 3"
    },
    "language_info": {
      "name": "python"
    }
  },
  "cells": [
    {
      "cell_type": "markdown",
      "metadata": {
        "id": "view-in-github",
        "colab_type": "text"
      },
      "source": [
        "<a href=\"https://colab.research.google.com/github/JesseChildress/sales-predictions/blob/main/Sales_Predictions_(Project_1).ipynb\" target=\"_parent\"><img src=\"https://colab.research.google.com/assets/colab-badge.svg\" alt=\"Open In Colab\"/></a>"
      ]
    },
    {
      "cell_type": "code",
      "metadata": {
        "id": "QEW2pW0Hi5fD"
      },
      "source": [
        "import pandas as pd \n"
      ],
      "execution_count": 111,
      "outputs": []
    },
    {
      "cell_type": "code",
      "metadata": {
        "colab": {
          "base_uri": "https://localhost:8080/"
        },
        "id": "YyiMrri9jQh3",
        "outputId": "23ba6f17-bc3b-427e-8e94-2915ac22cb5e"
      },
      "source": [
        "from google.colab import drive\n",
        "drive.mount('/content/drive')"
      ],
      "execution_count": 112,
      "outputs": [
        {
          "output_type": "stream",
          "name": "stdout",
          "text": [
            "Drive already mounted at /content/drive; to attempt to forcibly remount, call drive.mount(\"/content/drive\", force_remount=True).\n"
          ]
        }
      ]
    },
    {
      "cell_type": "code",
      "metadata": {
        "id": "v_ulmDQSjjP5"
      },
      "source": [
        "filename = '/content/sales_predictions.csv'\n",
        "df = pd.read_csv(filename)\n"
      ],
      "execution_count": 113,
      "outputs": []
    },
    {
      "cell_type": "code",
      "metadata": {
        "colab": {
          "base_uri": "https://localhost:8080/",
          "height": 309
        },
        "id": "iA2gK-9rj5OR",
        "outputId": "44eb6e3e-ef8a-4615-9558-bb7e4ade780c"
      },
      "source": [
        "df.head() #taking a first look at the data"
      ],
      "execution_count": 114,
      "outputs": [
        {
          "output_type": "execute_result",
          "data": {
            "text/html": [
              "<div>\n",
              "<style scoped>\n",
              "    .dataframe tbody tr th:only-of-type {\n",
              "        vertical-align: middle;\n",
              "    }\n",
              "\n",
              "    .dataframe tbody tr th {\n",
              "        vertical-align: top;\n",
              "    }\n",
              "\n",
              "    .dataframe thead th {\n",
              "        text-align: right;\n",
              "    }\n",
              "</style>\n",
              "<table border=\"1\" class=\"dataframe\">\n",
              "  <thead>\n",
              "    <tr style=\"text-align: right;\">\n",
              "      <th></th>\n",
              "      <th>Item_Identifier</th>\n",
              "      <th>Item_Weight</th>\n",
              "      <th>Item_Fat_Content</th>\n",
              "      <th>Item_Visibility</th>\n",
              "      <th>Item_Type</th>\n",
              "      <th>Item_MRP</th>\n",
              "      <th>Outlet_Identifier</th>\n",
              "      <th>Outlet_Establishment_Year</th>\n",
              "      <th>Outlet_Size</th>\n",
              "      <th>Outlet_Location_Type</th>\n",
              "      <th>Outlet_Type</th>\n",
              "      <th>Item_Outlet_Sales</th>\n",
              "    </tr>\n",
              "  </thead>\n",
              "  <tbody>\n",
              "    <tr>\n",
              "      <th>0</th>\n",
              "      <td>FDA15</td>\n",
              "      <td>9.30</td>\n",
              "      <td>Low Fat</td>\n",
              "      <td>0.016047</td>\n",
              "      <td>Dairy</td>\n",
              "      <td>249.8092</td>\n",
              "      <td>OUT049</td>\n",
              "      <td>1999</td>\n",
              "      <td>Medium</td>\n",
              "      <td>Tier 1</td>\n",
              "      <td>Supermarket Type1</td>\n",
              "      <td>3735.1380</td>\n",
              "    </tr>\n",
              "    <tr>\n",
              "      <th>1</th>\n",
              "      <td>DRC01</td>\n",
              "      <td>5.92</td>\n",
              "      <td>Regular</td>\n",
              "      <td>0.019278</td>\n",
              "      <td>Soft Drinks</td>\n",
              "      <td>48.2692</td>\n",
              "      <td>OUT018</td>\n",
              "      <td>2009</td>\n",
              "      <td>Medium</td>\n",
              "      <td>Tier 3</td>\n",
              "      <td>Supermarket Type2</td>\n",
              "      <td>443.4228</td>\n",
              "    </tr>\n",
              "    <tr>\n",
              "      <th>2</th>\n",
              "      <td>FDN15</td>\n",
              "      <td>17.50</td>\n",
              "      <td>Low Fat</td>\n",
              "      <td>0.016760</td>\n",
              "      <td>Meat</td>\n",
              "      <td>141.6180</td>\n",
              "      <td>OUT049</td>\n",
              "      <td>1999</td>\n",
              "      <td>Medium</td>\n",
              "      <td>Tier 1</td>\n",
              "      <td>Supermarket Type1</td>\n",
              "      <td>2097.2700</td>\n",
              "    </tr>\n",
              "    <tr>\n",
              "      <th>3</th>\n",
              "      <td>FDX07</td>\n",
              "      <td>19.20</td>\n",
              "      <td>Regular</td>\n",
              "      <td>0.000000</td>\n",
              "      <td>Fruits and Vegetables</td>\n",
              "      <td>182.0950</td>\n",
              "      <td>OUT010</td>\n",
              "      <td>1998</td>\n",
              "      <td>NaN</td>\n",
              "      <td>Tier 3</td>\n",
              "      <td>Grocery Store</td>\n",
              "      <td>732.3800</td>\n",
              "    </tr>\n",
              "    <tr>\n",
              "      <th>4</th>\n",
              "      <td>NCD19</td>\n",
              "      <td>8.93</td>\n",
              "      <td>Low Fat</td>\n",
              "      <td>0.000000</td>\n",
              "      <td>Household</td>\n",
              "      <td>53.8614</td>\n",
              "      <td>OUT013</td>\n",
              "      <td>1987</td>\n",
              "      <td>High</td>\n",
              "      <td>Tier 3</td>\n",
              "      <td>Supermarket Type1</td>\n",
              "      <td>994.7052</td>\n",
              "    </tr>\n",
              "  </tbody>\n",
              "</table>\n",
              "</div>"
            ],
            "text/plain": [
              "  Item_Identifier  Item_Weight  ...        Outlet_Type  Item_Outlet_Sales\n",
              "0           FDA15         9.30  ...  Supermarket Type1          3735.1380\n",
              "1           DRC01         5.92  ...  Supermarket Type2           443.4228\n",
              "2           FDN15        17.50  ...  Supermarket Type1          2097.2700\n",
              "3           FDX07        19.20  ...      Grocery Store           732.3800\n",
              "4           NCD19         8.93  ...  Supermarket Type1           994.7052\n",
              "\n",
              "[5 rows x 12 columns]"
            ]
          },
          "metadata": {},
          "execution_count": 114
        }
      ]
    },
    {
      "cell_type": "code",
      "metadata": {
        "id": "R8qBbOCrkAqZ",
        "colab": {
          "base_uri": "https://localhost:8080/"
        },
        "outputId": "f7300011-364f-410e-b859-38d60df915b4"
      },
      "source": [
        "#checking for missing data and data info\n",
        "#8,523 rows, 12 columns. 1463 missing from Item_Weight, 2410 missing from Outlet_Size\n",
        "#datatypes all seem to be in order \n",
        "#The colums that are missing data are of type float and object.\n",
        "#For both columns with missing data, the amount missing is greater than 5%, so we don't want to get rid of that data\n",
        "df.info()"
      ],
      "execution_count": 115,
      "outputs": [
        {
          "output_type": "stream",
          "name": "stdout",
          "text": [
            "<class 'pandas.core.frame.DataFrame'>\n",
            "RangeIndex: 8523 entries, 0 to 8522\n",
            "Data columns (total 12 columns):\n",
            " #   Column                     Non-Null Count  Dtype  \n",
            "---  ------                     --------------  -----  \n",
            " 0   Item_Identifier            8523 non-null   object \n",
            " 1   Item_Weight                7060 non-null   float64\n",
            " 2   Item_Fat_Content           8523 non-null   object \n",
            " 3   Item_Visibility            8523 non-null   float64\n",
            " 4   Item_Type                  8523 non-null   object \n",
            " 5   Item_MRP                   8523 non-null   float64\n",
            " 6   Outlet_Identifier          8523 non-null   object \n",
            " 7   Outlet_Establishment_Year  8523 non-null   int64  \n",
            " 8   Outlet_Size                6113 non-null   object \n",
            " 9   Outlet_Location_Type       8523 non-null   object \n",
            " 10  Outlet_Type                8523 non-null   object \n",
            " 11  Item_Outlet_Sales          8523 non-null   float64\n",
            "dtypes: float64(4), int64(1), object(7)\n",
            "memory usage: 799.2+ KB\n"
          ]
        }
      ]
    },
    {
      "cell_type": "code",
      "metadata": {
        "colab": {
          "base_uri": "https://localhost:8080/"
        },
        "id": "bHRnz0uD2baU",
        "outputId": "bd4fc801-cd03-403a-f99d-13b9bac36401"
      },
      "source": [
        "#checking number of rows/columns\n",
        "df.shape"
      ],
      "execution_count": 116,
      "outputs": [
        {
          "output_type": "execute_result",
          "data": {
            "text/plain": [
              "(8523, 12)"
            ]
          },
          "metadata": {},
          "execution_count": 116
        }
      ]
    },
    {
      "cell_type": "code",
      "metadata": {
        "id": "SXbsGvjB2xnV"
      },
      "source": [
        "#Filling in the missing data for Item_Weight\n",
        "#I am choosing to fill the missing weight values with the mean because that will not change min/max/mean calculations on the data\n",
        "df.loc[:, 'Item_Weight'].fillna(12.8576, inplace = True) \n"
      ],
      "execution_count": 134,
      "outputs": []
    },
    {
      "cell_type": "code",
      "metadata": {
        "colab": {
          "base_uri": "https://localhost:8080/"
        },
        "id": "M40jUPqa9LLx",
        "outputId": "c988ddf7-ccb7-48ee-8e38-1fd23c8fae59"
      },
      "source": [
        "#Filling in missing data for Outlet_Size. \n",
        "#I am choosing to add in \"Unknown\" so that the data is usable.\n",
        "df.loc[:, 'Outlet_Size'].fillna('Unknown', inplace = True)\n",
        "#checking for inconsistent categories\n",
        "df['Outlet_Size'].value_counts()"
      ],
      "execution_count": 135,
      "outputs": [
        {
          "output_type": "execute_result",
          "data": {
            "text/plain": [
              "Medium     2793\n",
              "Unknown    2410\n",
              "Small      2388\n",
              "High        932\n",
              "Name: Outlet_Size, dtype: int64"
            ]
          },
          "metadata": {},
          "execution_count": 135
        }
      ]
    },
    {
      "cell_type": "code",
      "metadata": {
        "colab": {
          "base_uri": "https://localhost:8080/"
        },
        "id": "pJpEkKFF-KA0",
        "outputId": "7ee20a9a-673b-423f-85c2-61fd9ffbe3cd"
      },
      "source": [
        "#checking for inconsistent categories\n",
        "df['Item_Type'].value_counts()"
      ],
      "execution_count": 119,
      "outputs": [
        {
          "output_type": "execute_result",
          "data": {
            "text/plain": [
              "Fruits and Vegetables    1232\n",
              "Snack Foods              1200\n",
              "Household                 910\n",
              "Frozen Foods              856\n",
              "Dairy                     682\n",
              "Canned                    649\n",
              "Baking Goods              648\n",
              "Health and Hygiene        520\n",
              "Soft Drinks               445\n",
              "Meat                      425\n",
              "Breads                    251\n",
              "Hard Drinks               214\n",
              "Others                    169\n",
              "Starchy Foods             148\n",
              "Breakfast                 110\n",
              "Seafood                    64\n",
              "Name: Item_Type, dtype: int64"
            ]
          },
          "metadata": {},
          "execution_count": 119
        }
      ]
    },
    {
      "cell_type": "code",
      "metadata": {
        "colab": {
          "base_uri": "https://localhost:8080/"
        },
        "id": "1HF7-oyc-ifu",
        "outputId": "86cab72c-b79a-48e4-8701-7865ba76bf54"
      },
      "source": [
        "#checking for inconsistent categories\n",
        "df['Outlet_Establishment_Year'].value_counts()"
      ],
      "execution_count": 120,
      "outputs": [
        {
          "output_type": "execute_result",
          "data": {
            "text/plain": [
              "1985    1463\n",
              "1987     932\n",
              "1999     930\n",
              "1997     930\n",
              "2004     930\n",
              "2002     929\n",
              "2009     928\n",
              "2007     926\n",
              "1998     555\n",
              "Name: Outlet_Establishment_Year, dtype: int64"
            ]
          },
          "metadata": {},
          "execution_count": 120
        }
      ]
    },
    {
      "cell_type": "code",
      "metadata": {
        "colab": {
          "base_uri": "https://localhost:8080/"
        },
        "id": "JmTw3FtbFtNs",
        "outputId": "2b39ce45-11a3-4b44-e4f1-d09dfb51798e"
      },
      "source": [
        "#checking for inconsistent categories\n",
        "# I don't think I would know even if these were inconsistent. I've just realized I won't need to check for inconsistent categories on all of them, as some are meant to all be differnt\n",
        "df['Item_Identifier'].value_counts()"
      ],
      "execution_count": 121,
      "outputs": [
        {
          "output_type": "execute_result",
          "data": {
            "text/plain": [
              "FDW13    10\n",
              "FDG33    10\n",
              "NCI54     9\n",
              "FDD38     9\n",
              "FDF52     9\n",
              "         ..\n",
              "FDK57     1\n",
              "DRF48     1\n",
              "FDO33     1\n",
              "FDY43     1\n",
              "FDT35     1\n",
              "Name: Item_Identifier, Length: 1559, dtype: int64"
            ]
          },
          "metadata": {},
          "execution_count": 121
        }
      ]
    },
    {
      "cell_type": "code",
      "metadata": {
        "colab": {
          "base_uri": "https://localhost:8080/"
        },
        "id": "UW0Wb8wGF_pb",
        "outputId": "149cbf35-1c85-474e-8d2a-dda6e5758464"
      },
      "source": [
        "#checking for inconsistent categories\n",
        "#Inconsistencies! I must fix them.\n",
        "df['Item_Fat_Content'].value_counts()"
      ],
      "execution_count": 122,
      "outputs": [
        {
          "output_type": "execute_result",
          "data": {
            "text/plain": [
              "Low Fat    5089\n",
              "Regular    2889\n",
              "LF          316\n",
              "reg         117\n",
              "low fat     112\n",
              "Name: Item_Fat_Content, dtype: int64"
            ]
          },
          "metadata": {},
          "execution_count": 122
        }
      ]
    },
    {
      "cell_type": "code",
      "metadata": {
        "id": "8iTFHAtWGNQN"
      },
      "source": [
        "#Fixing inconsistencies in Item_Fat_Content\tcolumn\n",
        "df['Item_Fat_Content'].replace(to_replace = 'LF', value = 'Low Fat', inplace = True)\n",
        "df['Item_Fat_Content'].replace(to_replace = 'reg', value = 'Regular', inplace = True)\n",
        "df['Item_Fat_Content'].replace(to_replace = 'low fat', value = 'Low Fat', inplace = True)"
      ],
      "execution_count": 123,
      "outputs": []
    },
    {
      "cell_type": "code",
      "metadata": {
        "colab": {
          "base_uri": "https://localhost:8080/"
        },
        "id": "3CxCVH1MI9LN",
        "outputId": "c651af01-da90-469e-dd49-72326856efa2"
      },
      "source": [
        "#making sure that all inconsistencies have been removed\n",
        "df['Item_Fat_Content'].value_counts()"
      ],
      "execution_count": 124,
      "outputs": [
        {
          "output_type": "execute_result",
          "data": {
            "text/plain": [
              "Low Fat    5517\n",
              "Regular    3006\n",
              "Name: Item_Fat_Content, dtype: int64"
            ]
          },
          "metadata": {},
          "execution_count": 124
        }
      ]
    },
    {
      "cell_type": "code",
      "metadata": {
        "colab": {
          "base_uri": "https://localhost:8080/"
        },
        "id": "6MGzGqFwJCv2",
        "outputId": "93917623-fb05-4fdc-a3b3-09608177d6fa"
      },
      "source": [
        "#checking for inconsistent categories\n",
        "#There are no apparent inconsistencies here, the repition of the unique ID's indicates multiple items at the same stores. \n",
        "#We can see here that in this entire data set we are only working with items from 10 diffent stores\n",
        "df['Outlet_Identifier'].value_counts()"
      ],
      "execution_count": 125,
      "outputs": [
        {
          "output_type": "execute_result",
          "data": {
            "text/plain": [
              "OUT027    935\n",
              "OUT013    932\n",
              "OUT035    930\n",
              "OUT046    930\n",
              "OUT049    930\n",
              "OUT045    929\n",
              "OUT018    928\n",
              "OUT017    926\n",
              "OUT010    555\n",
              "OUT019    528\n",
              "Name: Outlet_Identifier, dtype: int64"
            ]
          },
          "metadata": {},
          "execution_count": 125
        }
      ]
    },
    {
      "cell_type": "code",
      "metadata": {
        "colab": {
          "base_uri": "https://localhost:8080/"
        },
        "id": "QN_RpIs1K24L",
        "outputId": "48d373f4-04cc-49fa-d498-1d45f908fd50"
      },
      "source": [
        "#checking for inconsistent categories\n",
        "df['Outlet_Location_Type'].value_counts()"
      ],
      "execution_count": 126,
      "outputs": [
        {
          "output_type": "execute_result",
          "data": {
            "text/plain": [
              "Tier 3    3350\n",
              "Tier 2    2785\n",
              "Tier 1    2388\n",
              "Name: Outlet_Location_Type, dtype: int64"
            ]
          },
          "metadata": {},
          "execution_count": 126
        }
      ]
    },
    {
      "cell_type": "code",
      "metadata": {
        "colab": {
          "base_uri": "https://localhost:8080/"
        },
        "id": "EMUKNVMILJ6Y",
        "outputId": "00df7b3b-e83a-44bd-ed49-5c37414d1b35"
      },
      "source": [
        "#checking for inconsistent categories\n",
        "df['Outlet_Type'].value_counts()"
      ],
      "execution_count": 127,
      "outputs": [
        {
          "output_type": "execute_result",
          "data": {
            "text/plain": [
              "Supermarket Type1    5577\n",
              "Grocery Store        1083\n",
              "Supermarket Type3     935\n",
              "Supermarket Type2     928\n",
              "Name: Outlet_Type, dtype: int64"
            ]
          },
          "metadata": {},
          "execution_count": 127
        }
      ]
    },
    {
      "cell_type": "code",
      "metadata": {
        "colab": {
          "base_uri": "https://localhost:8080/"
        },
        "id": "KALQOXkfBF1P",
        "outputId": "d015aeb6-ccd9-4b89-eb63-08cc1ebe05fa"
      },
      "source": [
        "#checking for duplicates\n",
        "df.duplicated().sum() # There are no duplicates in this dataset\n"
      ],
      "execution_count": 128,
      "outputs": [
        {
          "output_type": "execute_result",
          "data": {
            "text/plain": [
              "0"
            ]
          },
          "metadata": {},
          "execution_count": 128
        }
      ]
    },
    {
      "cell_type": "code",
      "metadata": {
        "colab": {
          "base_uri": "https://localhost:8080/"
        },
        "id": "_XDlMNqjJ-14",
        "outputId": "6dc1e2a4-c008-489a-d95b-daad9f0c7b13"
      },
      "source": [
        "#checking for duplicates specifically for the Item_Identifier colum, because there should be none in this column Item_Identifier\t\n",
        "df['Item_Identifier'].duplicated().sum()\n",
        "#this means that 6,964 items ID's are duplicates. \n",
        "#I don't understand what this means, since every ID should be unique. "
      ],
      "execution_count": 129,
      "outputs": [
        {
          "output_type": "execute_result",
          "data": {
            "text/plain": [
              "6964"
            ]
          },
          "metadata": {},
          "execution_count": 129
        }
      ]
    },
    {
      "cell_type": "code",
      "metadata": {
        "colab": {
          "base_uri": "https://localhost:8080/"
        },
        "id": "yECXLTrZBLRx",
        "outputId": "403d0e8b-3f5e-483f-db4f-31cfde9d8b2a"
      },
      "source": [
        "#obtaining summary statistics\n",
        "df.min() #checking for outliers and weirdness. Only numerical columns have a meaningful min"
      ],
      "execution_count": 130,
      "outputs": [
        {
          "output_type": "execute_result",
          "data": {
            "text/plain": [
              "Item_Identifier                      DRA12\n",
              "Item_Weight                          4.555\n",
              "Item_Fat_Content                   Low Fat\n",
              "Item_Visibility                          0\n",
              "Item_Type                     Baking Goods\n",
              "Item_MRP                             31.29\n",
              "Outlet_Identifier                   OUT010\n",
              "Outlet_Establishment_Year             1985\n",
              "Outlet_Size                           High\n",
              "Outlet_Location_Type                Tier 1\n",
              "Outlet_Type                  Grocery Store\n",
              "Item_Outlet_Sales                    33.29\n",
              "dtype: object"
            ]
          },
          "metadata": {},
          "execution_count": 130
        }
      ]
    },
    {
      "cell_type": "code",
      "metadata": {
        "colab": {
          "base_uri": "https://localhost:8080/"
        },
        "id": "KLHNwZ2jCIEo",
        "outputId": "016c53a8-b4df-4a46-960c-b80f1c798f79"
      },
      "source": [
        "df.max() #checking for outliers and weirdness."
      ],
      "execution_count": 131,
      "outputs": [
        {
          "output_type": "execute_result",
          "data": {
            "text/plain": [
              "Item_Identifier                          NCZ54\n",
              "Item_Weight                              21.35\n",
              "Item_Fat_Content                       Regular\n",
              "Item_Visibility                       0.328391\n",
              "Item_Type                        Starchy Foods\n",
              "Item_MRP                               266.888\n",
              "Outlet_Identifier                       OUT049\n",
              "Outlet_Establishment_Year                 2009\n",
              "Outlet_Size                            Unknown\n",
              "Outlet_Location_Type                    Tier 3\n",
              "Outlet_Type                  Supermarket Type3\n",
              "Item_Outlet_Sales                        13087\n",
              "dtype: object"
            ]
          },
          "metadata": {},
          "execution_count": 131
        }
      ]
    },
    {
      "cell_type": "code",
      "metadata": {
        "colab": {
          "base_uri": "https://localhost:8080/"
        },
        "id": "Dw_FJbTnCgmr",
        "outputId": "373ca6aa-2a0c-4228-fddc-d1a84697f547"
      },
      "source": [
        "df.mean() #only numerical columns return an average."
      ],
      "execution_count": 132,
      "outputs": [
        {
          "output_type": "execute_result",
          "data": {
            "text/plain": [
              "Item_Weight                    12.857637\n",
              "Item_Visibility                 0.066132\n",
              "Item_MRP                      140.992782\n",
              "Outlet_Establishment_Year    1997.831867\n",
              "Item_Outlet_Sales            2181.288914\n",
              "dtype: float64"
            ]
          },
          "metadata": {},
          "execution_count": 132
        }
      ]
    },
    {
      "cell_type": "code",
      "metadata": {
        "colab": {
          "base_uri": "https://localhost:8080/"
        },
        "id": "Wu7-7kmUCiIk",
        "outputId": "97f04147-1a08-45d5-b338-5f0d658fc3e1"
      },
      "source": [
        "df.info() #confirming that all null values have been filled in "
      ],
      "execution_count": 133,
      "outputs": [
        {
          "output_type": "stream",
          "name": "stdout",
          "text": [
            "<class 'pandas.core.frame.DataFrame'>\n",
            "RangeIndex: 8523 entries, 0 to 8522\n",
            "Data columns (total 12 columns):\n",
            " #   Column                     Non-Null Count  Dtype  \n",
            "---  ------                     --------------  -----  \n",
            " 0   Item_Identifier            8523 non-null   object \n",
            " 1   Item_Weight                8523 non-null   float64\n",
            " 2   Item_Fat_Content           8523 non-null   object \n",
            " 3   Item_Visibility            8523 non-null   float64\n",
            " 4   Item_Type                  8523 non-null   object \n",
            " 5   Item_MRP                   8523 non-null   float64\n",
            " 6   Outlet_Identifier          8523 non-null   object \n",
            " 7   Outlet_Establishment_Year  8523 non-null   int64  \n",
            " 8   Outlet_Size                8523 non-null   object \n",
            " 9   Outlet_Location_Type       8523 non-null   object \n",
            " 10  Outlet_Type                8523 non-null   object \n",
            " 11  Item_Outlet_Sales          8523 non-null   float64\n",
            "dtypes: float64(4), int64(1), object(7)\n",
            "memory usage: 799.2+ KB\n"
          ]
        }
      ]
    },
    {
      "cell_type": "code",
      "metadata": {
        "id": "nyRDqrAuDaYW"
      },
      "source": [
        ""
      ],
      "execution_count": 133,
      "outputs": []
    }
  ]
}